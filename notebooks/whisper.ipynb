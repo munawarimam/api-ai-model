{
 "cells": [
  {
   "cell_type": "code",
   "execution_count": 1,
   "metadata": {},
   "outputs": [],
   "source": [
    "import whisper\n",
    "import json"
   ]
  },
  {
   "cell_type": "code",
   "execution_count": 2,
   "metadata": {},
   "outputs": [],
   "source": [
    "model = whisper.load_model('medium')"
   ]
  },
  {
   "cell_type": "code",
   "execution_count": 4,
   "metadata": {},
   "outputs": [],
   "source": [
    "audio_path = '../data/2024-04-22-tait/14senjataapi-1_95Odpk99 1.mp3'\n",
    "\n",
    "def generate_transcription(audio_path):\n",
    "    result = model.transcribe(audio=audio_path, language='id', verbose=True)\n",
    "    transcription_text = result.get('text', '')\n",
    "    trimmed_text = '{' + ' '.join(transcription_text.strip().split()).replace(\"'\", \"\") + '}'\n",
    "    return trimmed_text"
   ]
  },
  {
   "cell_type": "code",
   "execution_count": 4,
   "metadata": {},
   "outputs": [
    {
     "name": "stderr",
     "output_type": "stream",
     "text": [
      "/Applications/anaconda3/lib/python3.11/site-packages/whisper/transcribe.py:115: UserWarning: FP16 is not supported on CPU; using FP32 instead\n",
      "  warnings.warn(\"FP16 is not supported on CPU; using FP32 instead\")\n"
     ]
    },
    {
     "name": "stdout",
     "output_type": "stream",
     "text": [
      "[00:00.000 --> 00:08.000]  1-4, Alpha-1 masuk. Saya butuh bantuan segera di Jalan Pahlawan.\n",
      "[00:08.000 --> 00:14.000]  Lapor status 365 di daerah Sleepy Bank Indonesia.\n",
      "[00:16.000 --> 00:21.000]  Saya Mauti. Saya segera mengirimkan bantuan ke timur Kupangpati.\n",
      "[00:21.000 --> 00:24.000]  Apakah ada senjata yang terlibat?\n",
      "[00:25.000 --> 00:29.000]  Ya, beberapa penyerbong membawa senjata api.\n",
      "[00:29.000 --> 00:32.000]  Situasinya memburuk dengan cepat.\n",
      "[00:33.000 --> 00:38.000]  Saya akan aktifkan unit 1 dan segera berkumpul lokasi.\n",
      "[00:38.000 --> 00:41.000]  Pastikan untuk menjaga jarak aman.\n",
      "[00:42.000 --> 00:43.000]  Siap.\n",
      "[00:43.000 --> 00:45.000]  8-6.\n",
      "{1-4, Alpha-1 masuk. Saya butuh bantuan segera di Jalan Pahlawan. Lapor status 365 di daerah Sleepy Bank Indonesia. Saya Mauti. Saya segera mengirimkan bantuan ke timur Kupangpati. Apakah ada senjata yang terlibat? Ya, beberapa penyerbong membawa senjata api. Situasinya memburuk dengan cepat. Saya akan aktifkan unit 1 dan segera berkumpul lokasi. Pastikan untuk menjaga jarak aman. Siap. 8-6.}\n"
     ]
    }
   ],
   "source": [
    "if audio_path.endswith('.mp3') or audio_path.endswith('.wav'):\n",
    "    transcription = generate_transcription(audio_path)\n",
    "else:\n",
    "    raise ValueError(\"Invalid audio file format. Only mp3 and wav files are supported.\")\n",
    "\n",
    "print(transcription)"
   ]
  },
  {
   "cell_type": "code",
   "execution_count": null,
   "metadata": {},
   "outputs": [],
   "source": []
  }
 ],
 "metadata": {
  "kernelspec": {
   "display_name": "base",
   "language": "python",
   "name": "python3"
  },
  "language_info": {
   "codemirror_mode": {
    "name": "ipython",
    "version": 3
   },
   "file_extension": ".py",
   "mimetype": "text/x-python",
   "name": "python",
   "nbconvert_exporter": "python",
   "pygments_lexer": "ipython3",
   "version": "3.11.5"
  }
 },
 "nbformat": 4,
 "nbformat_minor": 2
}
